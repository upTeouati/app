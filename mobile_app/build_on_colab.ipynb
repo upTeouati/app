{
 "cells": [
  {
   "cell_type": "markdown",
   "metadata": {},
   "source": [
    "# Build Screen Viewer APK on Google Colab\n",
    "\n",
    "This notebook will build your Android APK. Follow these steps:\n",
    "\n",
    "1. Upload your project files when prompted\n",
    "2. Run all cells in order\n",
    "3. Download the generated APK from the `bin` directory"
   ]
  },
  {
   "cell_type": "code",
   "execution_count": null,
   "metadata": {},
   "source": [
    "# Install required packages\n",
    "!apt-get update\n",
    "!apt-get install -y \\\n",
    "    python3-pip \\\n",
    "    build-essential \\\n",
    "    git \\\n",
    "    python3 \\\n",
    "    python3-dev \\\n",
    "    ffmpeg \\\n",
    "    libsdl2-dev \\\n",
    "    libsdl2-image-dev \\\n",
    "    libsdl2-mixer-dev \\\n",
    "    libsdl2-ttf-dev \\\n",
    "    libportmidi-dev \\\n",
    "    libswscale-dev \\\n",
    "    libavformat-dev \\\n",
    "    libavcodec-dev \\\n",
    "    zlib1g-dev"
   ]
  },
  {
   "cell_type": "code",
   "execution_count": null,
   "metadata": {},
   "source": [
    "!pip install buildozer\n",
    "!pip install cython==0.29.33"
   ]
  },
  {
   "cell_type": "code",
   "execution_count": null,
   "metadata": {},
   "source": [
    "# Extract uploaded files\n",
    "!unzip mobile_app.zip\n",
    "!cd mobile_app && buildozer init"
   ]
  },
  {
   "cell_type": "code",
   "execution_count": null,
   "metadata": {},
   "source": [
    "# Build the APK\n",
    "%cd mobile_app\n",
    "!buildozer android debug"
   ]
  },
  {
   "cell_type": "code",
   "execution_count": null,
   "metadata": {},
   "source": [
    "# List the generated APK\n",
    "!ls -l bin/"
   ]
  }
 ],
 "metadata": {
  "kernelspec": {
   "display_name": "Python 3",
   "language": "python",
   "name": "python3"
  }
 }
}
