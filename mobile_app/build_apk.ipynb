{
 "cells": [
  {
   "cell_type": "markdown",
   "metadata": {},
   "source": [
    "# Build Screen Viewer APK\n",
    "\n",
    "This notebook will help you build the Android APK for the Screen Viewer application."
   ]
  },
  {
   "cell_type": "code",
   "execution_count": null,
   "metadata": {},
   "source": [
    "# Install required packages\n",
    "!pip install buildozer\n",
    "!pip install cython==0.29.33"
   ]
  },
  {
   "cell_type": "code",
   "execution_count": null,
   "metadata": {},
   "source": [
    "# Install system dependencies\n",
    "!apt-get update\n",
    "!apt-get install -y \\\n",
    "    python3-pip \\\n",
    "    build-essential \\\n",
    "    git \\\n",
    "    python3 \\\n",
    "    python3-dev \\\n",
    "    ffmpeg \\\n",
    "    libsdl2-dev \\\n",
    "    libsdl2-image-dev \\\n",
    "    libsdl2-mixer-dev \\\n",
    "    libsdl2-ttf-dev \\\n",
    "    libportmidi-dev \\\n",
    "    libswscale-dev \\\n",
    "    libavformat-dev \\\n",
    "    libavcodec-dev \\\n",
    "    zlib1g-dev"
   ]
  },
  {
   "cell_type": "code",
   "execution_count": null,
   "metadata": {},
   "source": [
    "# Create project directory\n",
    "!mkdir -p screenviewer\n",
    "!cp main.py buildozer.spec screenviewer/\n",
    "!cd screenviewer && buildozer android debug"
   ]
  }
 ],
 "metadata": {
  "kernelspec": {
   "display_name": "Python 3",
   "language": "python",
   "name": "python3"
  },
  "language_info": {
   "codemirror_mode": {
    "name": "ipython",
    "version": 3
   },
   "file_extension": ".py",
   "mimetype": "text/x-python",
   "name": "python",
   "nbconvert_exporter": "python",
   "pygments_lexer": "ipython3",
   "version": "3.8.0"
  }
 }
}
